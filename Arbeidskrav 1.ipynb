{
 "cells": [
  {
   "cell_type": "markdown",
   "id": "a277e28d-38e8-42fc-9e90-d3ad47dc150b",
   "metadata": {},
   "source": [
    "# Arbeidskrav 1 - Elbil vs Bensinbil "
   ]
  },
  {
   "cell_type": "markdown",
   "id": "0140f321-5c28-43a2-83db-a0bc6a855d64",
   "metadata": {},
   "source": [
    "I dette arbeidskravet tester jeg forskjellen i årlige kostnader mellom elbil og bensinbil.\n",
    "Jeg har valgt å anta 14 000 km/år, siden det ligner mitt bruksmønster.\n",
    "\n",
    "Jeg ser kun på forsikring, trafikkforsikringsavgift, strøm/bensin og bompenger.\n",
    "Andre ting som verditap og renter er utelatt (som oppgaven sier).\n",
    "\n",
    "Programmet er delt i oppgaver:\n",
    "1. Sette opp alle tallene jeg trenger (konstanter)\n",
    "2. Beregne og vise elbil-kostnader\n",
    "3. Beregne og vise bensinbil-kostnader\n",
    "4. Sammenlikne totalsummene\n",
    "5. (ekstra) Grafisk presentasjon for å se forskjellen tydelig\n",
    "\n",
    "Alle resultater vises med print(...) i konsollen.\n"
   ]
  },
  {
   "cell_type": "markdown",
   "id": "a1faba90-3497-48cb-ae10-369e67c676c7",
   "metadata": {},
   "source": [
    "## Definere tall som skal brukes i oppgavene "
   ]
  },
  {
   "cell_type": "code",
   "execution_count": 3,
   "id": "e617c693-4f80-4e03-b001-ebbd4bd13340",
   "metadata": {},
   "outputs": [],
   "source": [
    "from dataclasses import dataclass\n",
    "\n",
    "# 1. Antall km/år jeg bruker \n",
    "KM_ÅR = 14_000 "
   ]
  },
  {
   "cell_type": "code",
   "execution_count": 5,
   "id": "7d6e7134-ecfc-4916-b646-a387e7d560bf",
   "metadata": {},
   "outputs": [],
   "source": [
    "# 2. Forsikring (Kroner per år) - Tallene gitt i oppgaven \n",
    "Forsikring_Elbil = 5000\n",
    "Forsikring_Bensin = 7500"
   ]
  },
  {
   "cell_type": "code",
   "execution_count": 12,
   "id": "78420de0-aeed-4672-a58c-36298ea0ff4f",
   "metadata": {},
   "outputs": [],
   "source": [
    "# 3. Trafikkforsikringavgift (kr/dag) \n",
    "Trafikk_forsikring_avgift = 8.38"
   ]
  },
  {
   "cell_type": "code",
   "execution_count": 13,
   "id": "0cd55223-375c-4832-888e-a762c45d08b1",
   "metadata": {},
   "outputs": [],
   "source": [
    "# Elbil: Energiforbruk og strømpris \n",
    "Elbil_KWH_PER_KM = 0.20 # KWH/KM\n",
    "Strømpris = 2.00 # kr/KWH (kun hjemmelading)\n"
   ]
  },
  {
   "cell_type": "code",
   "execution_count": 14,
   "id": "09b41de8-8b0f-46b9-be8a-0d004af9dbb9",
   "metadata": {},
   "outputs": [],
   "source": [
    "#Bensinbil: Drivstoff kostnader \n",
    "\n",
    "BENSIN_DRIVSTOFF_KOST_PER_KM = 1.00 #Kr/KM "
   ]
  },
  {
   "cell_type": "code",
   "execution_count": 10,
   "id": "b4d593ea-d99e-41ad-8b62-76925e27a84e",
   "metadata": {},
   "outputs": [],
   "source": [
    "# Bomavgifter (kr/km)\n",
    "BOM_ELBIL_PER_KM = 0.10\n",
    "BOM_BENSIN_PER_KM = 0.30 "
   ]
  },
  {
   "cell_type": "markdown",
   "id": "fdf29a3d-badd-437d-957f-f170a112067e",
   "metadata": {},
   "source": [
    "## Bergne og presentere elbil kostnader (14 000 km/år)"
   ]
  },
  {
   "cell_type": "code",
   "execution_count": 22,
   "id": "c2a8a231-c37b-46c2-b30d-5fbe00bac742",
   "metadata": {},
   "outputs": [
    {
     "name": "stdout",
     "output_type": "stream",
     "text": [
      "=== ÅRLIGE KOSTNADER – ELBIL ===\n",
      "Kjørte km/år: 14 000\n",
      "Forsikring                5 000 kr\n",
      "Trafikkforsikringsavg.    3 059 kr\n",
      "Strøm                     5 600 kr\n",
      "Bomavgift                 1 400 kr\n",
      "TOTALT                    15 059 kr\n"
     ]
    }
   ],
   "source": [
    "# Regne ut hva elbil koster i året \n",
    "Elbil_forsikring = Forsikring_Elbil\n",
    "Elbil_trafikkforsikringavgift = Trafikk_for_avgift * 365\n",
    "Elbil_strøm = Elbil_KWH_PER_KM * Strømpris * KM_ÅR\n",
    "Elbil_bom = BOM_ELBIL_PER_KM * KM_ÅR\n",
    "\n",
    "Elbil_total = Elbil_forsikring + Elbil_trafikkforsikringavgift + Elbil_strøm + Elbil_bom\n",
    "\n",
    "# Lager en \"Ordbok\" for å skrive ut penere (utskrift i konsoll)\n",
    "elbil_dict = {\n",
    "    \"Forsikring\": Elbil_forsikring,\n",
    "    \"Trafikkforsikringsavg.\": Elbil_trafikkforsikringavgift,\n",
    "    \"Strøm\": Elbil_strøm,\n",
    "    \"Bomavgift\": Elbil_bom,\n",
    "    \"TOTALT\": Elbil_total,\n",
    "}\n",
    "\n",
    "print(\"=== ÅRLIGE KOSTNADER – ELBIL ===\")\n",
    "print(f\"Kjørte km/år: {KM_ÅR:,}\".replace(\",\", \" \"))\n",
    "for key, value in elbil_dict.items():\n",
    "    print(f\"{key:<25} {value:,.0f} kr\".replace(\",\", \" \"))\n"
   ]
  },
  {
   "cell_type": "markdown",
   "id": "485ba191-3da1-4e5a-81c1-1b12062767d0",
   "metadata": {},
   "source": [
    "##  Beregn og presentere bensinbil kostnader (14 000 km/år)"
   ]
  },
  {
   "cell_type": "code",
   "execution_count": 23,
   "id": "ebeaf669-81ca-4d44-b919-60d99f17f726",
   "metadata": {},
   "outputs": [
    {
     "name": "stdout",
     "output_type": "stream",
     "text": [
      "\n",
      "=== ÅRLIGE KOSTNADER – BENSINBIL ===\n",
      "Kjørte km/år: 14 000\n",
      "Forsikring                7 500 kr\n",
      "Trafikkforsikringsavg.    3 059 kr\n",
      "Drivstoff                 14 000 kr\n",
      "Bomavgift                 4 200 kr\n",
      "TOTALT                    28 759 kr\n"
     ]
    }
   ],
   "source": [
    "# Regne ut hva bensinbil koster i året\n",
    "Bensin_forsikring = Forsikring_Bensin\n",
    "Bensin_trafikkforsikringavgift = Trafikk_for_avgift * 365\n",
    "Bensin_drivstoff = BENSIN_DRIVSTOFF_KOST_PER_KM * KM_ÅR\n",
    "Bensin_bom = BOM_BENSIN_PER_KM * KM_ÅR\n",
    "\n",
    "Bensin_total = Bensin_forsikring + Bensin_trafikkforsikringavgift  + Bensin_drivstoff + Bensin_bom\n",
    "\n",
    "# Samme metode som for elbil\n",
    "bensin_dict = {\n",
    "    \"Forsikring\": Bensin_forsikring,\n",
    "    \"Trafikkforsikringsavg.\": Bensin_trafikkforsikringavgift,\n",
    "    \"Drivstoff\": Bensin_drivstoff,\n",
    "    \"Bomavgift\": Bensin_bom,\n",
    "    \"TOTALT\": Bensin_total,\n",
    "}\n",
    "\n",
    "print(\"\\n=== ÅRLIGE KOSTNADER – BENSINBIL ===\")\n",
    "print(f\"Kjørte km/år: {KM_ÅR:,}\".replace(\",\", \" \"))\n",
    "for key, value in bensin_dict.items():\n",
    "    print(f\"{key:<25} {value:,.0f} kr\".replace(\",\", \" \"))\n"
   ]
  },
  {
   "cell_type": "markdown",
   "id": "0080561a-e5e0-45b0-bd31-73100caf4692",
   "metadata": {},
   "source": [
    "## Beregne totalsummer og kostnadsdifferanse (bensin - elbil)"
   ]
  },
  {
   "cell_type": "code",
   "execution_count": 25,
   "id": "d819e72e-64d9-4fbb-8dfb-70e09e1d6702",
   "metadata": {},
   "outputs": [
    {
     "name": "stdout",
     "output_type": "stream",
     "text": [
      "\n",
      "=== SAMMENLIGNING ===\n",
      "Totalt Elbil:           15 059 kr\n",
      "Totalt Bensinbil:       28 759 kr\n",
      "Differanse (Bensin-El): 13 700 kr\n",
      "Mest lønnsomt: Elbil\n"
     ]
    }
   ],
   "source": [
    "# Her sammenlikner jeg totalsummene \n",
    "Differanse = Bensin_total - Elbil_total\n",
    "Mest_lønnsomt = \"Elbil\" if Differanse > 0 else \"Bensinbil\"\n",
    "\n",
    "print(\"\\n=== SAMMENLIGNING ===\")\n",
    "print(f\"Totalt Elbil:           {Elbil_total:,.0f} kr\".replace(\",\", \" \"))\n",
    "print(f\"Totalt Bensinbil:       {Bensin_total:,.0f} kr\".replace(\",\", \" \"))\n",
    "print(f\"Differanse (Bensin-El): {Differanse:,.0f} kr\".replace(\",\", \" \"))\n",
    "print(f\"Mest lønnsomt: {Mest_lønnsomt}\")\n"
   ]
  },
  {
   "cell_type": "markdown",
   "id": "a159a73c-2445-42c6-9817-3ecdd082608b",
   "metadata": {},
   "source": [
    "## Grafisk presentasjon med stolpediagram "
   ]
  },
  {
   "cell_type": "code",
   "execution_count": 20,
   "id": "a1938c8a-1f57-4921-a72c-5ad71f5d43a1",
   "metadata": {},
   "outputs": [
    {
     "data": {
      "image/png": "[encoded data removed]",
      "text/plain": [
       "<Figure size 700x500 with 1 Axes>"
      ]
     },
     "metadata": {},
     "output_type": "display_data"
    },
    {
     "data": {
      "image/png": "[encoded data removed]",
      "text/plain": [
       "<Figure size 500x400 with 1 Axes>"
      ]
     },
     "metadata": {},
     "output_type": "display_data"
    }
   ],
   "source": [
    "import matplotlib.pyplot as plt\n",
    "\n",
    "# Delkostnader for sammenlikning\n",
    "kategorier = [\"Forsikring\", \"Trafikkforsikringavgift\", \"Energi/Drivstoff\", \"Bom\"]\n",
    "ev_verdier = [Elbil_forsikring, Elbil_trafikkforsikringavgift, Elbil_strøm, Elbil_bom]\n",
    "bensin_verdier = [Bensin_forsikring, Bensin_trafikkforsikringavgift, Bensin_drivstoff, Bensin_bom]\n",
    "\n",
    "# 1) Stolpediagram for delkostnader\n",
    "x = range(len(kategorier))\n",
    "plt.figure(figsize=(7,5))\n",
    "plt.bar([i - 0.2 for i in x], ev_verdier, width=0.4, label=\"Elbil\")\n",
    "plt.bar([i + 0.2 for i in x], bensin_verdier, width=0.4, label=\"Bensinbil\")\n",
    "plt.xticks(x, kategorier)\n",
    "plt.title(\"Årlige delkostnader per kategori (14 000 km/år)\")\n",
    "plt.ylabel(\"Kroner per år\")\n",
    "plt.legend()\n",
    "plt.tight_layout()\n",
    "plt.show()\n",
    "\n",
    "# 2) Stolpediagram for totalkostnader\n",
    "plt.figure(figsize=(5,4))\n",
    "plt.bar([\"Elbil\", \"Bensinbil\"], [Elbil_total, Bensin_total], color=[\"green\", \"gray\"])\n",
    "plt.title(\"Totalkostnader (14 000 km/år)\")\n",
    "plt.ylabel(\"Kroner per år\")\n",
    "plt.tight_layout()\n",
    "plt.show()\n"
   ]
  },
  {
   "cell_type": "markdown",
   "id": "13c9e9f8-0b7b-4cfa-8936-c87de9e8adbf",
   "metadata": {},
   "source": [
    "### Merk: Jeg har brukt KI som støtte underveis for å få hjelp med debugging og forslag til struktur, men koden og kommentarene er skrevet og tilpasset av meg selv."
   ]
  },
  {
   "cell_type": "code",
   "execution_count": null,
   "id": "051ba331-4f9d-41d0-8879-8d8d08f8f386",
   "metadata": {},
   "outputs": [],
   "source": []
  }
 ],
 "metadata": {
  "kernelspec": {
   "display_name": "Python 3 (ipykernel)",
   "language": "python",
   "name": "python3"
  },
  "language_info": {
   "codemirror_mode": {
    "name": "ipython",
    "version": 3
   },
   "file_extension": ".py",
   "mimetype": "text/x-python",
   "name": "python",
   "nbconvert_exporter": "python",
   "pygments_lexer": "ipython3",
   "version": "3.13.7"
  }
 },
 "nbformat": 4,
 "nbformat_minor": 5
}
